{
 "cells": [
  {
   "cell_type": "code",
   "execution_count": 1,
   "metadata": {},
   "outputs": [],
   "source": [
    "from PIL import Image\n",
    "import os \n",
    "import matplotlib.pyplot as plt"
   ]
  },
  {
   "cell_type": "code",
   "execution_count": 5,
   "metadata": {},
   "outputs": [],
   "source": [
    "## importing libray for reading images from multiple folders: \n",
    "import cv2\n",
    "import numpy as np\n",
    "import glob"
   ]
  },
  {
   "cell_type": "code",
   "execution_count": null,
   "metadata": {},
   "outputs": [],
   "source": [
    "### Code for uploading cartoon images and pre-processing them \n"
   ]
  },
  {
   "cell_type": "code",
   "execution_count": 2,
   "metadata": {},
   "outputs": [],
   "source": [
    "folder_0 = glob.glob('E:/SEM2/Dessertation/Face_detection_project/Dataset/cartoon/cartoonset100k/cartoonset100k/0/*.png')\n",
    "folder_1 = glob.glob('E:/SEM2/Dessertation/Face_detection_project/Dataset/cartoon/cartoonset100k/cartoonset100k/1/*.png')\n",
    "folder_2 = glob.glob('E:/SEM2/Dessertation/Face_detection_project/Dataset/cartoon/cartoonset100k/cartoonset100k/2/*.png')\n",
    "folder_3 = glob.glob('E:/SEM2/Dessertation/Face_detection_project/Dataset/cartoon/cartoonset100k/cartoonset100k/3/*.png')\n",
    "folder_4 = glob.glob('E:/SEM2/Dessertation/Face_detection_project/Dataset/cartoon/cartoonset100k/cartoonset100k/4/*.png')\n",
    "folder_5 = glob.glob('E:/SEM2/Dessertation/Face_detection_project/Dataset/cartoon/cartoonset100k/cartoonset100k/5/*.png')\n",
    "folder_6 = glob.glob('E:/SEM2/Dessertation/Face_detection_project/Dataset/cartoon/cartoonset100k/cartoonset100k/6/*.png')\n",
    "folder_7 = glob.glob('E:/SEM2/Dessertation/Face_detection_project/Dataset/cartoon/cartoonset100k/cartoonset100k/7/*.png')\n",
    "folder_8 = glob.glob('E:/SEM2/Dessertation/Face_detection_project/Dataset/cartoon/cartoonset100k/cartoonset100k/8/*.png')\n",
    "folder_9 = glob.glob('E:/SEM2/Dessertation/Face_detection_project/Dataset/cartoon/cartoonset100k/cartoonset100k/9/*.png')\n",
    "Rez_size = 2\n",
    "GENERATE_SQUARE = 32 * Rez_size # rows/cols (should be square)\n",
    "IMAGE_CHANNELS = 4"
   ]
  },
  {
   "cell_type": "code",
   "execution_count": 3,
   "metadata": {},
   "outputs": [],
   "source": [
    "cartoon_dataset = []"
   ]
  },
  {
   "cell_type": "code",
   "execution_count": 6,
   "metadata": {},
   "outputs": [],
   "source": [
    "from PIL import Image\n",
    "import glob\n",
    "cartoon_dataset = []\n",
    "for filename in folder_0: \n",
    "    im=Image.open(filename).resize((GENERATE_SQUARE,\n",
    "                  GENERATE_SQUARE),Image.ANTIALIAS)\n",
    "    cartoon_dataset.append(np.asarray(im))\n",
    "cartoon_dataset = np.reshape(cartoon_dataset,(-1,GENERATE_SQUARE,\n",
    "            GENERATE_SQUARE,4))\n",
    "cartoon_dataset = cartoon_dataset.astype(np.float32)\n",
    "cartoon_dataset = cartoon_dataset / 127.5 - 1."
   ]
  },
  {
   "cell_type": "code",
   "execution_count": 7,
   "metadata": {},
   "outputs": [
    {
     "data": {
      "text/plain": [
       "(10000, 64, 64, 4)"
      ]
     },
     "execution_count": 7,
     "metadata": {},
     "output_type": "execute_result"
    }
   ],
   "source": [
    "cartoon_dataset.shape"
   ]
  },
  {
   "cell_type": "code",
   "execution_count": 8,
   "metadata": {},
   "outputs": [],
   "source": [
    "from PIL import Image\n",
    "import glob\n",
    "cartoon_dataset_1 = []\n",
    "for filename in folder_1: #assuming gif\n",
    "    im=Image.open(filename).resize((GENERATE_SQUARE,\n",
    "                  GENERATE_SQUARE),Image.ANTIALIAS)\n",
    "    cartoon_dataset_1.append(np.asarray(im))\n",
    "cartoon_dataset_1 = np.reshape(cartoon_dataset_1,(-1,GENERATE_SQUARE,\n",
    "            GENERATE_SQUARE,4))\n",
    "cartoon_dataset_1 = cartoon_dataset_1.astype(np.float32)\n",
    "cartoon_dataset_1 = cartoon_dataset_1 / 127.5 - 1."
   ]
  },
  {
   "cell_type": "code",
   "execution_count": 9,
   "metadata": {},
   "outputs": [
    {
     "data": {
      "text/plain": [
       "(10000, 64, 64, 4)"
      ]
     },
     "execution_count": 9,
     "metadata": {},
     "output_type": "execute_result"
    }
   ],
   "source": [
    "cartoon_dataset_1.shape"
   ]
  },
  {
   "cell_type": "code",
   "execution_count": 19,
   "metadata": {},
   "outputs": [],
   "source": [
    "from PIL import Image\n",
    "import glob\n",
    "cartoon_dataset_2 = []\n",
    "for filename in folder_2: #assuming gif\n",
    "    im=Image.open(filename).resize((GENERATE_SQUARE,\n",
    "                  GENERATE_SQUARE),Image.ANTIALIAS)\n",
    "    cartoon_dataset_2.append(np.asarray(im))\n",
    "cartoon_dataset_2 = np.reshape(cartoon_dataset_2,(-1,GENERATE_SQUARE,\n",
    "            GENERATE_SQUARE,4))\n",
    "cartoon_dataset_2 = cartoon_dataset_2.astype(np.float32)\n",
    "cartoon_dataset_2 = cartoon_dataset_2 / 127.5 - 1."
   ]
  },
  {
   "cell_type": "code",
   "execution_count": 20,
   "metadata": {},
   "outputs": [
    {
     "data": {
      "text/plain": [
       "(10000, 64, 64, 4)"
      ]
     },
     "execution_count": 20,
     "metadata": {},
     "output_type": "execute_result"
    }
   ],
   "source": [
    "cartoon_dataset_2.shape"
   ]
  },
  {
   "cell_type": "code",
   "execution_count": null,
   "metadata": {},
   "outputs": [],
   "source": [
    "## Code to pickle file for 30k 64,64,4 images for training and dump into file: "
   ]
  },
  {
   "cell_type": "code",
   "execution_count": 22,
   "metadata": {},
   "outputs": [
    {
     "name": "stdout",
     "output_type": "stream",
     "text": [
      "(30000, 64, 64, 4)\n"
     ]
    }
   ],
   "source": [
    "cartoon_dataset_20k = np.append(cartoon_dataset, cartoon_dataset_1, axis=0)\n",
    "cartoon_dataset_30k = np.append(cartoon_dataset_20k, cartoon_dataset_2, axis=0)\n",
    "print(cartoon_dataset_30k.shape)\n"
   ]
  },
  {
   "cell_type": "code",
   "execution_count": null,
   "metadata": {},
   "outputs": [],
   "source": [
    "\n",
    "import pickle\n",
    "filename = 'cartoon_data_file_30k'\n",
    "outfile = open(filename,'wb')\n",
    "pickle.dump(cartoon_dataset_30k,outfile)\n",
    "outfile.close()"
   ]
  },
  {
   "cell_type": "code",
   "execution_count": null,
   "metadata": {},
   "outputs": [],
   "source": [
    "### end of code for 30k (64 ,64 ,4) iamges "
   ]
  },
  {
   "cell_type": "code",
   "execution_count": 25,
   "metadata": {},
   "outputs": [],
   "source": [
    "from PIL import Image\n",
    "import glob\n",
    "cartoon_dataset_3 = []\n",
    "for filename in folder_3: #assuming gif\n",
    "    im=Image.open(filename).resize((GENERATE_SQUARE,\n",
    "                  GENERATE_SQUARE),Image.ANTIALIAS)\n",
    "    cartoon_dataset_3.append(np.asarray(im))\n",
    "cartoon_dataset_3 = np.reshape(cartoon_dataset_3,(-1,GENERATE_SQUARE,\n",
    "            GENERATE_SQUARE,4))\n",
    "cartoon_dataset_3 = cartoon_dataset_3.astype(np.float32)\n",
    "cartoon_dataset_3 = cartoon_dataset_3 / 127.5 - 1."
   ]
  },
  {
   "cell_type": "code",
   "execution_count": 26,
   "metadata": {},
   "outputs": [
    {
     "data": {
      "text/plain": [
       "(10000, 64, 64, 4)"
      ]
     },
     "execution_count": 26,
     "metadata": {},
     "output_type": "execute_result"
    }
   ],
   "source": [
    "cartoon_dataset_3.shape"
   ]
  },
  {
   "cell_type": "code",
   "execution_count": 27,
   "metadata": {},
   "outputs": [],
   "source": [
    "from PIL import Image\n",
    "import glob\n",
    "cartoon_dataset_4 = []\n",
    "for filename in folder_4:\n",
    "    im=Image.open(filename).resize((GENERATE_SQUARE,\n",
    "                  GENERATE_SQUARE),Image.ANTIALIAS)\n",
    "    cartoon_dataset_4.append(np.asarray(im))\n",
    "cartoon_dataset_4 = np.reshape(cartoon_dataset_4,(-1,GENERATE_SQUARE,\n",
    "            GENERATE_SQUARE,4))\n",
    "cartoon_dataset_4 = cartoon_dataset_4.astype(np.float32)\n",
    "cartoon_dataset_4 = cartoon_dataset_4 / 127.5 - 1."
   ]
  },
  {
   "cell_type": "code",
   "execution_count": 28,
   "metadata": {},
   "outputs": [
    {
     "data": {
      "text/plain": [
       "(10000, 64, 64, 4)"
      ]
     },
     "execution_count": 28,
     "metadata": {},
     "output_type": "execute_result"
    }
   ],
   "source": [
    "cartoon_dataset_4.shape"
   ]
  },
  {
   "cell_type": "code",
   "execution_count": 29,
   "metadata": {},
   "outputs": [],
   "source": [
    "from PIL import Image\n",
    "import glob\n",
    "cartoon_dataset_5 = []\n",
    "for filename in folder_5: #assuming gif\n",
    "    im=Image.open(filename).resize((GENERATE_SQUARE,\n",
    "                  GENERATE_SQUARE),Image.ANTIALIAS)\n",
    "    cartoon_dataset_5.append(np.asarray(im))\n",
    "cartoon_dataset_5 = np.reshape(cartoon_dataset_5,(-1,GENERATE_SQUARE,\n",
    "            GENERATE_SQUARE,4))\n",
    "cartoon_dataset_5 = cartoon_dataset_5.astype(np.float32)\n",
    "cartoon_dataset_5 = cartoon_dataset_5 / 127.5 - 1."
   ]
  },
  {
   "cell_type": "code",
   "execution_count": 30,
   "metadata": {},
   "outputs": [
    {
     "data": {
      "text/plain": [
       "(10000, 64, 64, 4)"
      ]
     },
     "execution_count": 30,
     "metadata": {},
     "output_type": "execute_result"
    }
   ],
   "source": [
    "cartoon_dataset_5.shape"
   ]
  },
  {
   "cell_type": "code",
   "execution_count": null,
   "metadata": {},
   "outputs": [],
   "source": [
    "### Code for 64,64,4 60k images "
   ]
  },
  {
   "cell_type": "code",
   "execution_count": 31,
   "metadata": {},
   "outputs": [
    {
     "name": "stdout",
     "output_type": "stream",
     "text": [
      "(60000, 64, 64, 4)\n"
     ]
    }
   ],
   "source": [
    "cartoon_dataset_40k = np.append(cartoon_dataset_30k, cartoon_dataset_3, axis=0)\n",
    "cartoon_dataset_50k = np.append(cartoon_dataset_40k, cartoon_dataset_4, axis=0)\n",
    "cartoon_dataset_60k = np.append(cartoon_dataset_50k, cartoon_dataset_5, axis=0)\n",
    "print(cartoon_dataset_60k.shape)\n"
   ]
  },
  {
   "cell_type": "code",
   "execution_count": 12,
   "metadata": {},
   "outputs": [],
   "source": [
    "import pickle\n",
    "filename = 'cartoon_data_file_60k'\n",
    "infile = open(filename,'rb')\n",
    "new_dict = pickle.load(infile)\n",
    "infile.close()"
   ]
  },
  {
   "cell_type": "code",
   "execution_count": 14,
   "metadata": {},
   "outputs": [],
   "source": [
    "cartoon_dataset_60k = new_dict"
   ]
  },
  {
   "cell_type": "code",
   "execution_count": null,
   "metadata": {},
   "outputs": [],
   "source": [
    "### End of code for 64,64,4 60k images"
   ]
  },
  {
   "cell_type": "code",
   "execution_count": 16,
   "metadata": {},
   "outputs": [],
   "source": [
    "\n",
    "cartoon_dataset_6 = []\n",
    "for filename in folder_6: #assuming gif\n",
    "    im=Image.open(filename).resize((GENERATE_SQUARE,\n",
    "                  GENERATE_SQUARE),Image.ANTIALIAS)\n",
    "    cartoon_dataset_6.append(np.asarray(im))\n",
    "cartoon_dataset_6 = np.reshape(cartoon_dataset_6,(-1,GENERATE_SQUARE,\n",
    "            GENERATE_SQUARE,4))\n",
    "cartoon_dataset_6 = cartoon_dataset_6.astype(np.float32)\n",
    "cartoon_dataset_6 = cartoon_dataset_6 / 127.5 - 1."
   ]
  },
  {
   "cell_type": "code",
   "execution_count": 18,
   "metadata": {},
   "outputs": [
    {
     "data": {
      "text/plain": [
       "(10000, 64, 64, 4)"
      ]
     },
     "execution_count": 18,
     "metadata": {},
     "output_type": "execute_result"
    }
   ],
   "source": [
    "cartoon_dataset_6.shape"
   ]
  },
  {
   "cell_type": "code",
   "execution_count": 19,
   "metadata": {},
   "outputs": [],
   "source": [
    "cartoon_dataset_70k = np.append(cartoon_dataset_60k, cartoon_dataset_6, axis=0)\n"
   ]
  },
  {
   "cell_type": "code",
   "execution_count": 20,
   "metadata": {},
   "outputs": [],
   "source": [
    "\n",
    "cartoon_dataset_7 = []\n",
    "for filename in folder_7: #assuming gif\n",
    "    im=Image.open(filename).resize((GENERATE_SQUARE,\n",
    "                  GENERATE_SQUARE),Image.ANTIALIAS)\n",
    "    cartoon_dataset_7.append(np.asarray(im))\n",
    "cartoon_dataset_7 = np.reshape(cartoon_dataset_7,(-1,GENERATE_SQUARE,\n",
    "            GENERATE_SQUARE,4))\n",
    "cartoon_dataset_7 = cartoon_dataset_7.astype(np.float32)\n",
    "cartoon_dataset_7 = cartoon_dataset_7 / 127.5 - 1."
   ]
  },
  {
   "cell_type": "code",
   "execution_count": 22,
   "metadata": {},
   "outputs": [
    {
     "data": {
      "text/plain": [
       "(10000, 64, 64, 4)"
      ]
     },
     "execution_count": 22,
     "metadata": {},
     "output_type": "execute_result"
    }
   ],
   "source": [
    "cartoon_dataset_7.shape"
   ]
  },
  {
   "cell_type": "code",
   "execution_count": null,
   "metadata": {},
   "outputs": [],
   "source": [
    "## Code for 80k images"
   ]
  },
  {
   "cell_type": "code",
   "execution_count": 23,
   "metadata": {},
   "outputs": [],
   "source": [
    "cartoon_dataset_80k = np.append(cartoon_dataset_70k, cartoon_dataset_7, axis=0)"
   ]
  },
  {
   "cell_type": "code",
   "execution_count": 25,
   "metadata": {},
   "outputs": [
    {
     "data": {
      "text/plain": [
       "(80000, 64, 64, 4)"
      ]
     },
     "execution_count": 25,
     "metadata": {},
     "output_type": "execute_result"
    }
   ],
   "source": [
    "cartoon_dataset_80k.shape"
   ]
  },
  {
   "cell_type": "code",
   "execution_count": null,
   "metadata": {},
   "outputs": [],
   "source": [
    "import pickle\n",
    "filename = 'cartoon_data_file_80k'\n",
    "outfile = open(filename,'wb')\n",
    "pickle.dump(cartoon_dataset_80k,outfile)\n",
    "outfile.close()"
   ]
  },
  {
   "cell_type": "code",
   "execution_count": null,
   "metadata": {},
   "outputs": [],
   "source": [
    "## End of Code for 80k images"
   ]
  },
  {
   "cell_type": "code",
   "execution_count": 22,
   "metadata": {},
   "outputs": [],
   "source": [
    "\n",
    "cartoon_dataset_8 = []\n",
    "for filename in folder_8: #assuming gif\n",
    "    im=Image.open(filename).resize((GENERATE_SQUARE,\n",
    "                  GENERATE_SQUARE),Image.ANTIALIAS)\n",
    "    cartoon_dataset_8.append(np.asarray(im))\n",
    "cartoon_dataset_8 = np.reshape(cartoon_dataset_8,(-1,GENERATE_SQUARE,\n",
    "            GENERATE_SQUARE,4))\n",
    "cartoon_dataset_8 = cartoon_dataset_8.astype(np.float32)\n",
    "cartoon_dataset_8 = cartoon_dataset_8 / 127.5 - 1."
   ]
  },
  {
   "cell_type": "code",
   "execution_count": 23,
   "metadata": {},
   "outputs": [
    {
     "data": {
      "text/plain": [
       "(10000, 32, 32, 4)"
      ]
     },
     "execution_count": 23,
     "metadata": {},
     "output_type": "execute_result"
    }
   ],
   "source": [
    "cartoon_dataset_8.shape"
   ]
  },
  {
   "cell_type": "code",
   "execution_count": 24,
   "metadata": {},
   "outputs": [],
   "source": [
    "\n",
    "cartoon_dataset_9 = []\n",
    "for filename in folder_9: #assuming gif\n",
    "    im=Image.open(filename).resize((GENERATE_SQUARE,\n",
    "                  GENERATE_SQUARE),Image.ANTIALIAS)\n",
    "    cartoon_dataset_9.append(np.asarray(im))\n",
    "cartoon_dataset_9 = np.reshape(cartoon_dataset_9,(-1,GENERATE_SQUARE,\n",
    "            GENERATE_SQUARE,4))\n",
    "cartoon_dataset_9 = cartoon_dataset_9.astype(np.float32)\n",
    "cartoon_dataset_9 = cartoon_dataset_9 / 127.5 - 1."
   ]
  },
  {
   "cell_type": "code",
   "execution_count": 26,
   "metadata": {},
   "outputs": [
    {
     "data": {
      "text/plain": [
       "(10000, 32, 32, 4)"
      ]
     },
     "execution_count": 26,
     "metadata": {},
     "output_type": "execute_result"
    }
   ],
   "source": [
    "cartoon_dataset_9.shape"
   ]
  },
  {
   "cell_type": "code",
   "execution_count": null,
   "metadata": {},
   "outputs": [],
   "source": [
    "## Merge from here"
   ]
  },
  {
   "cell_type": "code",
   "execution_count": 29,
   "metadata": {},
   "outputs": [],
   "source": [
    "cartoon_merge_1 = np.append(cartoon_dataset_1, cartoon_dataset_2, axis=0)"
   ]
  },
  {
   "cell_type": "code",
   "execution_count": 30,
   "metadata": {},
   "outputs": [
    {
     "name": "stdout",
     "output_type": "stream",
     "text": [
      "(20000, 32, 32, 4)\n"
     ]
    }
   ],
   "source": [
    "print(cartoon_merge_1.shape)"
   ]
  },
  {
   "cell_type": "code",
   "execution_count": 31,
   "metadata": {},
   "outputs": [
    {
     "name": "stdout",
     "output_type": "stream",
     "text": [
      "(30000, 32, 32, 4)\n"
     ]
    }
   ],
   "source": [
    "\n",
    "cartoon_merge_2 = np.append(cartoon_merge_1, cartoon_dataset_3, axis=0)\n",
    "\n",
    "print(cartoon_merge_2.shape)"
   ]
  },
  {
   "cell_type": "code",
   "execution_count": 32,
   "metadata": {},
   "outputs": [
    {
     "name": "stdout",
     "output_type": "stream",
     "text": [
      "(40000, 32, 32, 4)\n"
     ]
    }
   ],
   "source": [
    "\n",
    "cartoon_merge_3 = np.append(cartoon_merge_2, cartoon_dataset_4, axis=0)\n",
    "print(cartoon_merge_3.shape)"
   ]
  },
  {
   "cell_type": "code",
   "execution_count": 33,
   "metadata": {},
   "outputs": [
    {
     "name": "stdout",
     "output_type": "stream",
     "text": [
      "(40000, 32, 32, 4)\n"
     ]
    }
   ],
   "source": [
    "print(cartoon_merge_3.shape)"
   ]
  },
  {
   "cell_type": "code",
   "execution_count": 34,
   "metadata": {},
   "outputs": [
    {
     "name": "stdout",
     "output_type": "stream",
     "text": [
      "(50000, 32, 32, 4)\n"
     ]
    }
   ],
   "source": [
    "cartoon_merge_4 = np.append(cartoon_merge_3, cartoon_dataset_5, axis=0)\n",
    "print(cartoon_merge_4.shape)"
   ]
  },
  {
   "cell_type": "code",
   "execution_count": 35,
   "metadata": {},
   "outputs": [
    {
     "name": "stdout",
     "output_type": "stream",
     "text": [
      "(60000, 32, 32, 4)\n"
     ]
    }
   ],
   "source": [
    "\n",
    "cartoon_merge_5 = np.append(cartoon_merge_4, cartoon_dataset_6, axis=0)\n",
    "print(cartoon_merge_5.shape)"
   ]
  },
  {
   "cell_type": "code",
   "execution_count": 36,
   "metadata": {},
   "outputs": [
    {
     "name": "stdout",
     "output_type": "stream",
     "text": [
      "(70000, 32, 32, 4)\n"
     ]
    }
   ],
   "source": [
    "\n",
    "cartoon_merge_6 = np.append(cartoon_merge_5, cartoon_dataset_7, axis=0)\n",
    "print(cartoon_merge_6.shape)"
   ]
  },
  {
   "cell_type": "code",
   "execution_count": 37,
   "metadata": {},
   "outputs": [
    {
     "name": "stdout",
     "output_type": "stream",
     "text": [
      "(80000, 32, 32, 4)\n"
     ]
    }
   ],
   "source": [
    "\n",
    "cartoon_merge_7 = np.append(cartoon_merge_6, cartoon_dataset_8, axis=0)\n",
    "print(cartoon_merge_7.shape)"
   ]
  },
  {
   "cell_type": "code",
   "execution_count": 38,
   "metadata": {},
   "outputs": [
    {
     "name": "stdout",
     "output_type": "stream",
     "text": [
      "(90000, 32, 32, 4)\n"
     ]
    }
   ],
   "source": [
    "cartoon_final_dataset = np.append(cartoon_merge_7, cartoon_dataset_9, axis=0)\n",
    "print(cartoon_final_dataset.shape)"
   ]
  },
  {
   "cell_type": "code",
   "execution_count": 39,
   "metadata": {},
   "outputs": [],
   "source": [
    "\n",
    "import pickle\n",
    "filename = 'cartoon_data_file_90k'\n",
    "outfile = open(filename,'wb')\n",
    "pickle.dump(cartoon_final_dataset,outfile)\n",
    "outfile.close()\n"
   ]
  },
  {
   "cell_type": "code",
   "execution_count": null,
   "metadata": {},
   "outputs": [],
   "source": [
    "### Code added for creating binary files for 10k and 30k test dataset for VAE model"
   ]
  },
  {
   "cell_type": "code",
   "execution_count": 11,
   "metadata": {},
   "outputs": [],
   "source": [
    "from PIL import Image\n",
    "import glob\n",
    "cartoon_dataset_test_10k = []\n",
    "for filename in folder_7: #assuming gif\n",
    "    im=Image.open(filename).resize((GENERATE_SQUARE,\n",
    "                  GENERATE_SQUARE),Image.ANTIALIAS)\n",
    "    cartoon_dataset_test_10k.append(np.asarray(im))\n",
    "cartoon_dataset_test_10k = np.reshape(cartoon_dataset_test_10k,(-1,GENERATE_SQUARE,\n",
    "            GENERATE_SQUARE,4))\n",
    "cartoon_dataset_test_10k = cartoon_dataset_test_10k.astype(np.float32)\n",
    "cartoon_dataset_test_10k = cartoon_dataset_test_10k / 127.5 - 1."
   ]
  },
  {
   "cell_type": "code",
   "execution_count": 12,
   "metadata": {},
   "outputs": [
    {
     "data": {
      "text/plain": [
       "(10000, 64, 64, 4)"
      ]
     },
     "execution_count": 12,
     "metadata": {},
     "output_type": "execute_result"
    }
   ],
   "source": [
    "cartoon_dataset_test_10k.shape"
   ]
  },
  {
   "cell_type": "code",
   "execution_count": 13,
   "metadata": {},
   "outputs": [
    {
     "name": "stdout",
     "output_type": "stream",
     "text": [
      "Picked 10k test file\n"
     ]
    }
   ],
   "source": [
    "\n",
    "import pickle\n",
    "filename = 'cartoon_data_test_10k'\n",
    "outfile = open(filename,'wb')\n",
    "pickle.dump(cartoon_dataset_test_10k,outfile)\n",
    "outfile.close()\n",
    "print(\"Picked 10k test file\")"
   ]
  },
  {
   "cell_type": "code",
   "execution_count": null,
   "metadata": {},
   "outputs": [],
   "source": [
    "### Code for pickling 30k test set"
   ]
  },
  {
   "cell_type": "code",
   "execution_count": 14,
   "metadata": {},
   "outputs": [],
   "source": [
    "from PIL import Image\n",
    "import glob\n",
    "cartoon_dataset_test_20k = []\n",
    "for filename in folder_7: #assuming gif\n",
    "    im=Image.open(filename).resize((GENERATE_SQUARE,\n",
    "                  GENERATE_SQUARE),Image.ANTIALIAS)\n",
    "    cartoon_dataset_test_20k.append(np.asarray(im))\n",
    "cartoon_dataset_test_20k = np.reshape(cartoon_dataset_test_20k,(-1,GENERATE_SQUARE,\n",
    "            GENERATE_SQUARE,4))\n",
    "cartoon_dataset_test_20k = cartoon_dataset_test_20k.astype(np.float32)\n",
    "cartoon_dataset_test_20k = cartoon_dataset_test_20k / 127.5 - 1."
   ]
  },
  {
   "cell_type": "code",
   "execution_count": 15,
   "metadata": {},
   "outputs": [
    {
     "data": {
      "text/plain": [
       "(10000, 64, 64, 4)"
      ]
     },
     "execution_count": 15,
     "metadata": {},
     "output_type": "execute_result"
    }
   ],
   "source": [
    "cartoon_dataset_test_20k.shape"
   ]
  },
  {
   "cell_type": "code",
   "execution_count": 16,
   "metadata": {},
   "outputs": [],
   "source": [
    "from PIL import Image\n",
    "import glob\n",
    "cartoon_dataset_test_30k = []\n",
    "for filename in folder_7: #assuming gif\n",
    "    im=Image.open(filename).resize((GENERATE_SQUARE,\n",
    "                  GENERATE_SQUARE),Image.ANTIALIAS)\n",
    "    cartoon_dataset_test_30k.append(np.asarray(im))\n",
    "cartoon_dataset_test_30k = np.reshape(cartoon_dataset_test_30k,(-1,GENERATE_SQUARE,\n",
    "            GENERATE_SQUARE,4))\n",
    "cartoon_dataset_test_30k = cartoon_dataset_test_30k.astype(np.float32)\n",
    "cartoon_dataset_test_30k = cartoon_dataset_test_30k / 127.5 - 1."
   ]
  },
  {
   "cell_type": "code",
   "execution_count": 17,
   "metadata": {},
   "outputs": [
    {
     "data": {
      "text/plain": [
       "(10000, 64, 64, 4)"
      ]
     },
     "execution_count": 17,
     "metadata": {},
     "output_type": "execute_result"
    }
   ],
   "source": [
    "cartoon_dataset_test_30k.shape"
   ]
  },
  {
   "cell_type": "code",
   "execution_count": 18,
   "metadata": {},
   "outputs": [
    {
     "name": "stdout",
     "output_type": "stream",
     "text": [
      "(20000, 64, 64, 4)\n"
     ]
    }
   ],
   "source": [
    "\n",
    "cartoon_merge_20 = np.append(cartoon_dataset_test_10k, cartoon_dataset_test_20k, axis=0)\n",
    "print(cartoon_merge_20.shape)"
   ]
  },
  {
   "cell_type": "code",
   "execution_count": 19,
   "metadata": {},
   "outputs": [
    {
     "name": "stdout",
     "output_type": "stream",
     "text": [
      "(30000, 64, 64, 4)\n"
     ]
    }
   ],
   "source": [
    "\n",
    "cartoon_merge_30 = np.append(cartoon_merge_20, cartoon_dataset_test_30k, axis=0)\n",
    "print(cartoon_merge_30.shape)"
   ]
  },
  {
   "cell_type": "code",
   "execution_count": 20,
   "metadata": {},
   "outputs": [
    {
     "name": "stdout",
     "output_type": "stream",
     "text": [
      "Picked 30k test file\n"
     ]
    }
   ],
   "source": [
    "\n",
    "import pickle\n",
    "filename = 'cartoon_data_test_30k'\n",
    "outfile = open(filename,'wb')\n",
    "pickle.dump(cartoon_merge_30,outfile)\n",
    "outfile.close()\n",
    "print(\"Picked 30k test file\")"
   ]
  },
  {
   "cell_type": "code",
   "execution_count": null,
   "metadata": {},
   "outputs": [],
   "source": []
  }
 ],
 "metadata": {
  "kernelspec": {
   "display_name": "Python 3",
   "language": "python",
   "name": "python3"
  },
  "language_info": {
   "codemirror_mode": {
    "name": "ipython",
    "version": 3
   },
   "file_extension": ".py",
   "mimetype": "text/x-python",
   "name": "python",
   "nbconvert_exporter": "python",
   "pygments_lexer": "ipython3",
   "version": "3.7.6"
  }
 },
 "nbformat": 4,
 "nbformat_minor": 4
}
